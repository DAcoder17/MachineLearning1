{
 "cells": [
  {
   "cell_type": "markdown",
   "id": "ecae6b42",
   "metadata": {},
   "source": [
    "# TLC Trip Record Data"
   ]
  },
  {
   "cell_type": "markdown",
   "id": "87e5f71b",
   "metadata": {},
   "source": [
    "Yellow and green taxi trip records include fields capturing pickup and drop-off dates/times, pickup and drop-off locations, trip distances, itemized fares, rate types, payment types, and driver-reported passenger counts. The data used in the attached datasets were collected and provided to the NYC Taxi and Limousine Commission (TLC) by technology providers authorized under the Taxicab & Livery Passenger Enhancement Programs (TPEP/LPEP). The trip data was not created by the TLC, and TLC makes no representations as to the accuracy of these data.\n",
    "\n",
    "For-Hire Vehicle (“FHV”) trip records include fields capturing the dispatching base license number and the pickup date, time, and taxi zone location ID (shape file below).These records are generated from the FHV Trip Record submissions made by bases, so we cannot guarantee or confirm their accuracy or completeness. The TLC performs routine reviews of the records and takes enforcement actions when necessary to ensure, to the extent possible, complete and accurate information. Since 2019 high volume trip records (HVFHV) are reported in a separate (and more detailed) dataset.\n",
    "\n",
    "For 2025 data onwards, a cbd_congestion_fee column has been added to the Yellow, Green, and High Volume FHV datasets to reflect new congestion pricing charges."
   ]
  },
  {
   "cell_type": "markdown",
   "id": "303130f7",
   "metadata": {},
   "source": [
    "## Librerías"
   ]
  },
  {
   "cell_type": "code",
   "execution_count": null,
   "id": "1d1f533c",
   "metadata": {},
   "outputs": [],
   "source": [
    "import pandas as pd\n",
    "import numpy as np\n",
    "import matplotlib.pyplot as plt\n",
    "import seaborn as sns\n",
    "import geopandas as gpd\n",
    "import matplotlib.dates as mdates\n",
    "from collections import defaultdict, deque\n",
    "from datetime import timedelta\n",
    "from scipy import stats\n",
    "from shapely.geometry import Point\n",
    "import contextily as ctx  "
   ]
  },
  {
   "cell_type": "markdown",
   "id": "9b396046",
   "metadata": {},
   "source": [
    "## Lectura de los dataset"
   ]
  },
  {
   "cell_type": "code",
   "execution_count": null,
   "id": "cf1c7bd5",
   "metadata": {},
   "outputs": [],
   "source": [
    "## datos NYC Taxi and Limousine Commission TLC\n",
    "yellow_original= pd.read_parquet(r'C:\\Users\\LeidyDayannaPerezGir\\Downloads\\yellow_tripdata_2025-01.parquet')\n",
    "green_original = pd.read_parquet(r'C:\\Users\\LeidyDayannaPerezGir\\Downloads\\green_tripdata_2025-01.parquet')\n",
    "hvfhv_original = pd.read_parquet(r'C:\\Users\\LeidyDayannaPerezGir\\Downloads\\fhvhv_tripdata_2025-01.parquet')"
   ]
  },
  {
   "cell_type": "code",
   "execution_count": null,
   "id": "c41b1a9c",
   "metadata": {},
   "outputs": [],
   "source": [
    "## shape\n",
    "gdf = gpd.read_file(r\"C:\\Users\\LeidyDayannaPerezGir\\Downloads\\taxi_zones\\taxi_zones.shp\")"
   ]
  },
  {
   "cell_type": "code",
   "execution_count": null,
   "id": "cee05b7d",
   "metadata": {},
   "outputs": [],
   "source": [
    "yellow = yellow_original.copy()\n",
    "green = green_original.copy()\n",
    "hvfhv = hvfhv_original.copy()"
   ]
  },
  {
   "cell_type": "markdown",
   "id": "a9d4ba86",
   "metadata": {},
   "source": [
    "## Unificación de columnas"
   ]
  },
  {
   "cell_type": "code",
   "execution_count": null,
   "id": "a2e688e6",
   "metadata": {},
   "outputs": [],
   "source": [
    "vendor_dict = {\n",
    "    \"1\": \"Creative Mobile Technologies, LLC\",\n",
    "    \"2\": \"Curb Mobility, LLC\",\n",
    "    \"6\": \"Myle Technologies Inc\",\n",
    "    \"7\": \"Helix\",\n",
    "    \"HV0002\": \"Juno\",\n",
    "    \"HV0003\": \"Uber\",\n",
    "    \"HV0004\": \"Via\",\n",
    "    \"HV0005\": \"Lyft\"\n",
    "}\n",
    "\n",
    "yellow = yellow.rename(columns={\n",
    "    'tpep_pickup_datetime': 'pickup_datetime',\n",
    "    'tpep_dropoff_datetime': 'dropoff_datetime',\n",
    "    'trip_distance': 'trip_miles',\n",
    "    'tolls_amount': 'tolls',\n",
    "    'tip_amount': 'tips',\n",
    "    'total_amount': 'driver_pay', \n",
    "    'Airport_fee': 'airport_fee'\n",
    "})\n",
    "\n",
    "green = green.rename(columns={\n",
    "    'lpep_pickup_datetime': 'pickup_datetime',\n",
    "    'lpep_dropoff_datetime': 'dropoff_datetime',\n",
    "    'trip_distance': 'trip_miles',\n",
    "    'tolls_amount': 'tolls',\n",
    "    'tip_amount': 'tips',\n",
    "    'total_amount': 'driver_pay', \n",
    "    'Airport_fee': 'airport_fee'\n",
    "})\n",
    "\n",
    "hvfhv = hvfhv.rename(columns= {'hvfhs_license_num': 'VendorID'})      \n",
    "\n",
    "hvfhv['VendorID'] = hvfhv['VendorID'].map(vendor_dict)\n",
    "yellow['VendorID'] = yellow['VendorID'].astype(str).map(vendor_dict)\n",
    "green['VendorID'] = green['VendorID'].astype(str).map(vendor_dict)\n",
    "\n",
    "hvfhv['type_service'] = 'for_hire'\n",
    "yellow['type_service'] = 'yellow'\n",
    "green['type_service'] = 'green'"
   ]
  },
  {
   "cell_type": "markdown",
   "id": "f072f4c1",
   "metadata": {},
   "source": [
    "## Concatenación de dfs"
   ]
  },
  {
   "cell_type": "code",
   "execution_count": null,
   "id": "0c58dcea",
   "metadata": {},
   "outputs": [],
   "source": [
    "cols_comunes = ['type_service','VendorID',\n",
    "    'pickup_datetime', 'dropoff_datetime', 'trip_miles',\n",
    "    'PULocationID', 'DOLocationID',\n",
    "    'fare_amount', 'base_passenger_fare',\n",
    "    'tolls', 'tips', 'driver_pay',\n",
    "    'congestion_surcharge', 'cbd_congestion_fee', 'airport_fee'\n",
    "]\n",
    "\n",
    "yellow = yellow[[c for c in cols_comunes if c in yellow.columns]]\n",
    "green  = green[[c for c in cols_comunes if c in green.columns]]\n",
    "hvfhv  = hvfhv[[c for c in cols_comunes if c in hvfhv.columns]]\n",
    "\n",
    "df_final = pd.concat([yellow, green, hvfhv], ignore_index=True)"
   ]
  },
  {
   "cell_type": "code",
   "execution_count": null,
   "id": "ca9f2bb1",
   "metadata": {},
   "outputs": [],
   "source": [
    "df_final.isna().sum()"
   ]
  },
  {
   "cell_type": "code",
   "execution_count": null,
   "id": "9fd1e13e",
   "metadata": {},
   "outputs": [],
   "source": [
    "print(df_final.info())\n",
    "print(df_final.head())"
   ]
  },
  {
   "cell_type": "markdown",
   "id": "bbe471e3",
   "metadata": {},
   "source": [
    "## EDA"
   ]
  },
  {
   "cell_type": "markdown",
   "id": "f9a17da6",
   "metadata": {},
   "source": [
    "### Tipificación"
   ]
  },
  {
   "cell_type": "code",
   "execution_count": null,
   "id": "72b9aa3e",
   "metadata": {},
   "outputs": [],
   "source": [
    "df = df_final.copy()\n",
    "\n",
    "for col in ['pickup_datetime', 'dropoff_datetime']:\n",
    "    if col in df.columns:\n",
    "        df[col] = pd.to_datetime(df[col], errors='coerce')"
   ]
  },
  {
   "cell_type": "markdown",
   "id": "c949e4ba",
   "metadata": {},
   "source": [
    "### Características de tiempo y duración"
   ]
  },
  {
   "cell_type": "code",
   "execution_count": null,
   "id": "2dd9a3a3",
   "metadata": {},
   "outputs": [],
   "source": [
    "df['duration_min'] = (df['dropoff_datetime'] - df['pickup_datetime']).dt.total_seconds() / 60.0\n",
    "df['pickup_hour']  = df['pickup_datetime'].dt.hour\n",
    "df['pickup_wday']  = df['pickup_datetime'].dt.weekday   \n",
    "df['is_weekend']   = (df['pickup_wday'] >= 5).astype('int8')"
   ]
  },
  {
   "cell_type": "markdown",
   "id": "f2d9373e",
   "metadata": {},
   "source": [
    "### Unificación de tarifa base"
   ]
  },
  {
   "cell_type": "code",
   "execution_count": null,
   "id": "6697182c",
   "metadata": {},
   "outputs": [],
   "source": [
    "df['fare_equiv']  = np.where(df['fare_amount'].notna(), df['fare_amount'], df['base_passenger_fare'])\n",
    "df['total_equiv'] = df['driver_pay']  "
   ]
  },
  {
   "cell_type": "markdown",
   "id": "e3365988",
   "metadata": {},
   "source": [
    "### Validaciones Básicas"
   ]
  },
  {
   "cell_type": "code",
   "execution_count": null,
   "id": "290df06a",
   "metadata": {},
   "outputs": [],
   "source": [
    "df = df.query('duration_min > 0')"
   ]
  },
  {
   "cell_type": "code",
   "execution_count": null,
   "id": "bf8bd9e3",
   "metadata": {},
   "outputs": [],
   "source": [
    "# Duración y distancia razonables\n",
    "\n",
    "df = df.query('trip_miles > 0')"
   ]
  },
  {
   "cell_type": "code",
   "execution_count": null,
   "id": "e2a5c950",
   "metadata": {},
   "outputs": [],
   "source": [
    "# Velocidad promedio\n",
    "df['avg_mph'] = df['trip_miles'] / (df['duration_min'] / 60.0)\n",
    "df = df[(df['avg_mph'] >= 0)]"
   ]
  },
  {
   "cell_type": "code",
   "execution_count": null,
   "id": "90b6c913",
   "metadata": {},
   "outputs": [],
   "source": [
    "## por fuera de fecha \n",
    "df =  df.query('pickup_datetime < \"2025-02-01\" and pickup_datetime  >= \"2025-01-01\" ')"
   ]
  },
  {
   "cell_type": "code",
   "execution_count": null,
   "id": "f618c950",
   "metadata": {},
   "outputs": [],
   "source": [
    "# 4) Reglas lógicas básicas\n",
    "# Fechas válidas\n",
    "mask_time_ok = (df['pickup_datetime'].notna() & df['dropoff_datetime'].notna() &\n",
    "                (df['dropoff_datetime'] >= df['pickup_datetime']))\n",
    "df = df[mask_time_ok]\n",
    "\n",
    "#TODO:  Decidir qué hacer con fare_equiv y total_equiv ya que son las variables más importantes a la hora de modelar regresión\n",
    "# for col in ['fare_equiv', 'total_equiv']:\n",
    "#     if col in df.columns:\n",
    "#         # Si faltan, decide: imputar 0 (si \"no aplica\") o eliminar:\n",
    "#         df[col] = df[col].fillna(0)\n",
    "#         df = df[df[col] >= 0]"
   ]
  },
  {
   "cell_type": "code",
   "execution_count": null,
   "id": "59a98d2a",
   "metadata": {},
   "outputs": [],
   "source": [
    "# 5) No negatividad e imputaciones benignas\n",
    "for col in ['tolls', 'tips', 'congestion_surcharge', 'cbd_congestion_fee']:\n",
    "    if col in df.columns:\n",
    "        df[col] = df[col].fillna(0)\n",
    "        df = df[df[col] >= 0]       "
   ]
  },
  {
   "cell_type": "markdown",
   "id": "0abed3bd",
   "metadata": {},
   "source": [
    "### Duplicados"
   ]
  },
  {
   "cell_type": "code",
   "execution_count": null,
   "id": "2f6f98a0",
   "metadata": {},
   "outputs": [],
   "source": [
    "df = df.drop_duplicates()"
   ]
  },
  {
   "cell_type": "markdown",
   "id": "ac5b191c",
   "metadata": {},
   "source": [
    "### Manejo de Outliers"
   ]
  },
  {
   "cell_type": "code",
   "execution_count": null,
   "id": "8c8c77fe",
   "metadata": {},
   "outputs": [],
   "source": [
    "# Decidir si esta regla es adecuada para el análisis, alternativa pordría ser con IQR\n",
    "def winsorize_series(s: pd.Series, lower=0.005, upper=0.995):\n",
    "    lo, hi = s.quantile([lower, upper])\n",
    "    return s.clip(lower=lo, upper=hi)\n",
    "\n",
    "winsor_cols = ['trip_miles', 'duration_min', 'avg_mph',\n",
    "            'fare_equiv', 'tolls', 'tips', 'total_equiv']\n",
    "\n",
    "for c in winsor_cols:\n",
    "    if c in df.columns and pd.api.types.is_numeric_dtype(df[c]):\n",
    "        df[c] = winsorize_series(df[c], 0.005, 0.995)"
   ]
  },
  {
   "cell_type": "markdown",
   "id": "b41cdc20",
   "metadata": {},
   "source": [
    "### Número de solicitudes cercanas"
   ]
  },
  {
   "cell_type": "code",
   "execution_count": null,
   "id": "0bfbeff2",
   "metadata": {},
   "outputs": [],
   "source": [
    "df['fecha'] = pd.to_datetime(df['pickup_datetime'])\n",
    "tuplas = zip(df.PULocationID, df.fecha)\n",
    "\n",
    "grupos = defaultdict(list)"
   ]
  },
  {
   "cell_type": "code",
   "execution_count": null,
   "id": "22b64a18",
   "metadata": {},
   "outputs": [],
   "source": [
    "for loc_id, fecha in tuplas:\n",
    "    grupos[loc_id].append(fecha)\n",
    "\n",
    "    resultados = []"
   ]
  },
  {
   "cell_type": "code",
   "execution_count": null,
   "id": "a6e7a2a5",
   "metadata": {},
   "outputs": [],
   "source": [
    "for loc_id, fechas in grupos.items():\n",
    "    fechas.sort()\n",
    "    ventana = deque()\n",
    "\n",
    "    for fecha in fechas:\n",
    "        while ventana and ventana[0] < fecha - timedelta(minutes=30):\n",
    "            ventana.popleft()\n",
    "\n",
    "        resultados.append((loc_id, fecha, len(ventana)))\n",
    "        ventana.append(fecha)       "
   ]
  },
  {
   "cell_type": "code",
   "execution_count": null,
   "id": "46e2a990",
   "metadata": {},
   "outputs": [],
   "source": [
    "# se ordena resultados\n",
    "resultados.sort() "
   ]
  },
  {
   "cell_type": "code",
   "execution_count": null,
   "id": "d653fd16",
   "metadata": {},
   "outputs": [],
   "source": [
    "# se ordena el df por PULocationID y fecha\n",
    "df = df.sort_values(['PULocationID', 'fecha']).reset_index(drop=True)"
   ]
  },
  {
   "cell_type": "code",
   "execution_count": null,
   "id": "df51c828",
   "metadata": {},
   "outputs": [],
   "source": [
    "# Inicializa los punteros y resultado\n",
    "i = 0 \n",
    "j = 0  \n",
    "n = len(df)\n",
    "m = len(resultados)\n",
    "\n",
    "conteos = []\n",
    "\n",
    "while i < n:\n",
    "    df_loc = df.at[i, 'PULocationID']\n",
    "    df_fecha = df.at[i, 'fecha']\n",
    "\n",
    "    matched = False\n",
    "\n",
    "    while j < m:\n",
    "        res_loc, res_fecha, res_conteo = resultados[j]\n",
    "\n",
    "        if (res_loc, res_fecha) < (df_loc, df_fecha):\n",
    "            j += 1\n",
    "        elif (res_loc, res_fecha) == (df_loc, df_fecha):\n",
    "            conteos.append(res_conteo)\n",
    "            matched = True\n",
    "            break\n",
    "        else:\n",
    "            break\n",
    "\n",
    "    if not matched:\n",
    "        conteos.append(None)  \n",
    "    i += 1\n",
    "\n",
    "\n",
    "df['number_requests'] = conteos"
   ]
  },
  {
   "cell_type": "markdown",
   "id": "8316584c",
   "metadata": {},
   "source": [
    "### Casteo Final"
   ]
  },
  {
   "cell_type": "code",
   "execution_count": null,
   "id": "8369aee5",
   "metadata": {},
   "outputs": [],
   "source": [
    "int_cols = ['PULocationID', 'DOLocationID', 'pickup_hour', 'pickup_wday', 'is_weekend']\n",
    "for c in int_cols:\n",
    "    if c in df.columns:\n",
    "        df[c] = pd.to_numeric(df[c], errors='coerce').astype('Int64')\n",
    "\n",
    "float_cols = ['trip_miles', 'duration_min', 'avg_mph',\n",
    "            'fare_equiv', 'tolls', 'tips', 'total_equiv',\n",
    "            'congestion_surcharge', 'cbd_congestion_fee', 'airport_fee']\n",
    "for c in float_cols:\n",
    "    if c in df.columns:\n",
    "        df[c] = pd.to_numeric(df[c], errors='coerce').astype('float64')\n",
    "\n",
    "cols_model = [\n",
    "    'pickup_datetime', 'dropoff_datetime',\n",
    "    'PULocationID', 'DOLocationID',\n",
    "    'trip_miles', 'duration_min', 'avg_mph',\n",
    "    'pickup_hour', 'pickup_wday', 'is_weekend',\n",
    "    'fare_equiv', 'tolls', 'tips', 'total_equiv',\n",
    "    'congestion_surcharge', 'cbd_congestion_fee', 'airport_fee'\n",
    "]\n",
    "cols_model = [c for c in cols_model if c in df.columns]\n",
    "\n",
    "df_model = df[cols_model].reset_index(drop=True)        "
   ]
  },
  {
   "cell_type": "code",
   "execution_count": null,
   "id": "a0de66ec",
   "metadata": {},
   "outputs": [],
   "source": [
    "print(df_model.info())\n",
    "df_model.head()"
   ]
  },
  {
   "cell_type": "markdown",
   "id": "6fdcfd7b",
   "metadata": {},
   "source": [
    "### Distribuciones"
   ]
  },
  {
   "cell_type": "code",
   "execution_count": null,
   "id": "18326db4",
   "metadata": {},
   "outputs": [],
   "source": [
    "sns.set_theme(style='whitegrid', palette='Set2')\n",
    "plt.rcParams['figure.figsize'] = (10, 5)\n",
    "\n",
    "num_cols = ['trip_miles', 'duration_min', 'avg_mph',\n",
    "            'fare_equiv', 'tolls', 'tips', 'total_equiv']\n",
    "\n",
    "for col in num_cols:\n",
    "    if col in df_model.columns:\n",
    "        plt.figure()\n",
    "        sns.histplot(df_model[col], kde=True, bins=50)\n",
    "        plt.title(f'Distribución de {col}')\n",
    "        plt.xlabel(col)\n",
    "        plt.ylabel('Frecuencia')\n",
    "        plt.show()"
   ]
  },
  {
   "cell_type": "markdown",
   "id": "057ab226",
   "metadata": {},
   "source": [
    "### Boxplots"
   ]
  },
  {
   "cell_type": "code",
   "execution_count": null,
   "id": "9375506b",
   "metadata": {},
   "outputs": [],
   "source": [
    "for col in num_cols:\n",
    "    if col in df_model.columns:\n",
    "        plt.figure()\n",
    "        sns.boxplot(x=df_model[col])\n",
    "        plt.title(f'Boxplot de {col}')\n",
    "        plt.show()"
   ]
  },
  {
   "cell_type": "markdown",
   "id": "1a5afdac",
   "metadata": {},
   "source": [
    "### Correlación"
   ]
  },
  {
   "cell_type": "code",
   "execution_count": null,
   "id": "4c01a0cc",
   "metadata": {},
   "outputs": [],
   "source": [
    "numeric_df = df_model.select_dtypes(include=[np.number])\n",
    "corr = numeric_df.corr()\n",
    "\n",
    "plt.figure(figsize=(10,8))\n",
    "sns.heatmap(corr, annot=True, cmap='coolwarm', fmt=\".2f\", square=True)\n",
    "plt.title(\"Matriz de correlaciones\")\n",
    "plt.show()"
   ]
  },
  {
   "cell_type": "code",
   "execution_count": null,
   "id": "50f12cdc",
   "metadata": {},
   "outputs": [],
   "source": [
    "if 'total_equiv' in numeric_df.columns:\n",
    "    corr_target = corr['total_equiv'].sort_values(ascending=False)\n",
    "    print(\"📊 Correlaciones con total_equiv:\")\n",
    "    print(corr_target)"
   ]
  },
  {
   "cell_type": "markdown",
   "id": "c1fb16cf",
   "metadata": {},
   "source": [
    "### Estacionalidad"
   ]
  },
  {
   "cell_type": "code",
   "execution_count": null,
   "id": "2e30b7ef",
   "metadata": {},
   "outputs": [],
   "source": [
    "if {'pickup_hour', 'pickup_wday'}.issubset(df_model.columns):\n",
    "    plt.figure()\n",
    "    sns.boxplot(x='pickup_hour', y='total_equiv', data=df_model)\n",
    "    plt.title('Total_equiv por hora de recogida')\n",
    "    plt.show()\n",
    "\n",
    "    plt.figure()\n",
    "    sns.boxplot(x='pickup_wday', y='total_equiv', data=df_model)\n",
    "    plt.title('Total_equiv por día de la semana (0=Lunes)')\n",
    "    plt.show()"
   ]
  },
  {
   "cell_type": "markdown",
   "id": "dd773130",
   "metadata": {},
   "source": [
    "### Patrones Espaciales"
   ]
  },
  {
   "cell_type": "code",
   "execution_count": null,
   "id": "3ecbc178",
   "metadata": {},
   "outputs": [],
   "source": [
    "if {'PULocationID', 'DOLocationID'}.issubset(df_model.columns):\n",
    "    top_pu = df_model['PULocationID'].value_counts().head(10)\n",
    "    top_do = df_model['DOLocationID'].value_counts().head(10)\n",
    "\n",
    "    plt.figure()\n",
    "    sns.barplot(x=top_pu.index, y=top_pu.values)\n",
    "    plt.title(\"Top 10 zonas de origen más frecuentes\")\n",
    "    plt.xlabel(\"PULocationID\")\n",
    "    plt.ylabel(\"Número de viajes\")\n",
    "    plt.show()\n",
    "\n",
    "    plt.figure()\n",
    "    sns.barplot(x=top_do.index, y=top_do.values)\n",
    "    plt.title(\"Top 10 zonas de destino más frecuentes\")\n",
    "    plt.xlabel(\"DOLocationID\")\n",
    "    plt.ylabel(\"Número de viajes\")\n",
    "    plt.show()"
   ]
  },
  {
   "cell_type": "markdown",
   "id": "4e67d1af",
   "metadata": {},
   "source": [
    "### Graficamos el shape"
   ]
  },
  {
   "cell_type": "code",
   "execution_count": null,
   "id": "f1b6788b",
   "metadata": {},
   "outputs": [],
   "source": [
    "df.describe().to_clipboard()"
   ]
  },
  {
   "cell_type": "code",
   "execution_count": null,
   "id": "f2ed129c",
   "metadata": {},
   "outputs": [],
   "source": [
    "df[['type_service', 'VendorID']].value_counts().to_clipboard()"
   ]
  },
  {
   "cell_type": "code",
   "execution_count": null,
   "id": "73d223a3",
   "metadata": {},
   "outputs": [],
   "source": [
    "# Agrupar por mes y tipo de servicio\n",
    "df['fecha'] = df['pickup_datetime'].dt.strftime('%Y-%m-%d')\n",
    "pdf = (\n",
    "           df.groupby([\"fecha\", \"type_service\"])\n",
    "          .size().reset_index())    \n",
    "\n",
    "\n",
    "# Ordenar por fecha\n",
    "pdf = pdf.sort_values(\"fecha\")\n",
    "\n",
    "# Graficar\n",
    "plt.figure(figsize=(12,6))\n",
    "for service, data in pdf.groupby(\"type_service\"):\n",
    "    plt.plot(data[\"fecha\"], data[0], marker=\"o\", label=service)\n",
    "\n",
    "plt.title(\"Conteo de registros por fecha y tipo de servicio\")\n",
    "plt.xlabel(\"Fecha\")\n",
    "plt.ylabel(\"Cantidad de registros\")\n",
    "plt.legend(title=\"Tipo de servicio\")\n",
    "plt.grid(True)\n",
    "\n",
    "\n",
    "plt.gca().xaxis.set_major_locator(mdates.AutoDateLocator())\n",
    "plt.xticks(rotation=45)\n",
    "plt.tight_layout()\n",
    "plt.show()"
   ]
  },
  {
   "cell_type": "code",
   "execution_count": null,
   "id": "f915b45e",
   "metadata": {},
   "outputs": [],
   "source": [
    "#contar los pickups por zona y tipo de servicio \n",
    "pickup_counts = (\n",
    "    df.groupby([\"PULocationID\", \"type_service\"])\n",
    "      .size()\n",
    "      .reset_index(name=\"count\")\n",
    ")\n",
    "\n",
    "# Unir con el shapefile \n",
    "\n",
    "pickup_map = gdf.merge(\n",
    "    pickup_counts,\n",
    "    left_on=\"LocationID\",\n",
    "    right_on=\"PULocationID\",\n",
    "    how=\"left\"\n",
    ")\n",
    "\n",
    "#Graficar todos los type_service en un solo lienzo \n",
    "type_services = sorted(df[\"type_service\"].dropna().unique())\n",
    "n = len(type_services)\n",
    "\n",
    "fig, axes = plt.subplots(1, n, figsize=(6 * n, 8))\n",
    "if n == 1:\n",
    "    axes = [axes]  \n",
    "\n",
    "for ax, service in zip(axes, type_services):\n",
    "    data = pickup_map[pickup_map[\"type_service\"] == service]\n",
    "    im = data.plot(\n",
    "        column=\"count\",\n",
    "        cmap=\"OrRd\",\n",
    "        legend=False, \n",
    "        ax=ax,\n",
    "        edgecolor=\"black\"\n",
    "    )\n",
    "    ax.set_title(service, fontsize=14)\n",
    "    ax.axis(\"off\")\n",
    "\n",
    "# Crear una única barra de color\n",
    "fig.subplots_adjust(right=0.85)\n",
    "cbar_ax = fig.add_axes([0.88, 0.25, 0.02, 0.5])  \n",
    "fig.colorbar(im.collections[0], cax=cbar_ax)\n",
    "cbar_ax.set_title(\"Count\", fontsize=12)\n",
    "\n",
    "plt.suptitle(\"Taxi Pickups by Zone and Type of Service\", fontsize=16)\n",
    "plt.show()"
   ]
  },
  {
   "cell_type": "code",
   "execution_count": null,
   "id": "34ad8e40",
   "metadata": {},
   "outputs": [],
   "source": [
    "# Contar los pickups por zona y tipo de servicio \n",
    "pickup_counts = (\n",
    "    df.groupby([\"DOLocationID\", \"type_service\"])\n",
    "      .size()\n",
    "      .reset_index(name=\"count\")\n",
    ")\n",
    "\n",
    "# Unir con el shapefile \n",
    "\n",
    "pickup_map = gdf.merge(\n",
    "    pickup_counts,\n",
    "    left_on=\"LocationID\",\n",
    "    right_on=\"DOLocationID\",\n",
    "    how=\"left\"\n",
    ")\n",
    "\n",
    "# Graficar todos los type_service en un solo lienzo \n",
    "type_services = sorted(df[\"type_service\"].dropna().unique())\n",
    "n = len(type_services)\n",
    "\n",
    "fig, axes = plt.subplots(1, n, figsize=(6 * n, 8))\n",
    "if n == 1:\n",
    "    axes = [axes]  \n",
    "for ax, service in zip(axes, type_services):\n",
    "    data = pickup_map[pickup_map[\"type_service\"] == service]\n",
    "    im = data.plot(\n",
    "        column=\"count\",\n",
    "        cmap=\"OrRd\",\n",
    "        legend=False,  \n",
    "        ax=ax,\n",
    "        edgecolor=\"black\"\n",
    "    )\n",
    "    ax.set_title(service, fontsize=14)\n",
    "    ax.axis(\"off\")\n",
    "\n",
    "#  Crear una única barra de color \n",
    "fig.subplots_adjust(right=0.85)\n",
    "cbar_ax = fig.add_axes([0.88, 0.25, 0.02, 0.5])  \n",
    "fig.colorbar(im.collections[0], cax=cbar_ax)\n",
    "cbar_ax.set_title(\"Count\", fontsize=12)\n",
    "\n",
    "plt.suptitle(\"Taxi drop offs by Zone and Type of Service\", fontsize=16)\n",
    "plt.show()"
   ]
  },
  {
   "cell_type": "code",
   "execution_count": null,
   "id": "af730943",
   "metadata": {},
   "outputs": [],
   "source": [
    "from sklearn.preprocessing import StandardScaler\n",
    "from sklearn.cluster import KMeans"
   ]
  },
  {
   "cell_type": "code",
   "execution_count": null,
   "id": "ff6fc3bc",
   "metadata": {},
   "outputs": [],
   "source": [
    "features = [\n",
    "    \"trip_miles\", \"duration_min\", \"avg_mph\",\n",
    "    \"total_equiv\", \"tips\", \"pickup_hour\", \"is_weekend\"\n",
    "]"
   ]
  },
  {
   "cell_type": "code",
   "execution_count": null,
   "id": "187ed55b",
   "metadata": {},
   "outputs": [],
   "source": [
    "X = df[features].fillna(0)\n",
    "\n",
    "scaler = StandardScaler()\n",
    "X_scaled = scaler.fit_transform(X)"
   ]
  },
  {
   "cell_type": "code",
   "execution_count": null,
   "id": "01bfc7cd",
   "metadata": {},
   "outputs": [],
   "source": [
    "kmeans = KMeans(n_clusters=4, random_state=42)\n",
    "df[\"cluster\"] = kmeans.fit_predict(X_scaled)"
   ]
  },
  {
   "cell_type": "code",
   "execution_count": null,
   "id": "91ace5a4",
   "metadata": {},
   "outputs": [],
   "source": [
    "sns.boxplot(data=df, x=\"cluster\", y=\"trip_miles\")\n",
    "plt.yscale(\"log\")\n",
    "plt.title(\"Distribución de trip_miles por cluster\")\n",
    "plt.show()"
   ]
  },
  {
   "cell_type": "code",
   "execution_count": null,
   "id": "a0f0f578",
   "metadata": {},
   "outputs": [],
   "source": [
    "from scipy.stats import kruskal\n",
    "\n",
    "\n",
    "groups = [g[\"trip_miles\"].values for _, g in df.groupby(\"cluster\")]\n",
    "stat, p = kruskal(*groups)\n",
    "print(f\"Estadístico = {stat:.3f}, p-valor = {p:.5f}\")\n"
   ]
  },
  {
   "cell_type": "code",
   "execution_count": null,
   "id": "c6dc94bf",
   "metadata": {},
   "outputs": [],
   "source": [
    "from scipy.stats import mannwhitneyu\n",
    "import itertools\n",
    "\n",
    "\n",
    "clusters = df[\"cluster\"].unique()\n",
    "pairs = list(itertools.combinations(clusters, 2))\n",
    "results = []\n",
    "\n",
    "for c1, c2 in pairs:\n",
    "    group1 = df.loc[df[\"cluster\"] == c1, \"trip_miles\"]\n",
    "    group2 = df.loc[df[\"cluster\"] == c2, \"trip_miles\"]\n",
    "    \n",
    "    stat, p = mannwhitneyu(group1, group2, alternative=\"two-sided\")\n",
    "    results.append({\n",
    "        \"Cluster 1\": c1,\n",
    "        \"Cluster 2\": c2,\n",
    "        \"U-stat\": stat,\n",
    "\n",
    "        \n",
    "        \"p-value\": p\n",
    "    })\n",
    "\n",
    "import pandas as pd\n",
    "results_df = pd.DataFrame(results)\n",
    "print(results_df)"
   ]
  },
  {
   "cell_type": "code",
   "execution_count": null,
   "id": "cbc0e745",
   "metadata": {},
   "outputs": [],
   "source": [
    "df.groupby(\"cluster\")[\"trip_miles\"].describe()"
   ]
  },
  {
   "cell_type": "code",
   "execution_count": null,
   "id": "98310316",
   "metadata": {},
   "outputs": [],
   "source": [
    "counts = df.groupby([\"cluster\", \"type_service\"]).size().reset_index(name=\"count\")"
   ]
  },
  {
   "cell_type": "code",
   "execution_count": null,
   "id": "c0ee5149",
   "metadata": {},
   "outputs": [],
   "source": [
    "# 1️⃣ Count rows per combination\n",
    "prop_by_service = (\n",
    "    df.groupby([\"type_service\", \"cluster\"])\n",
    "      .size()\n",
    "      .reset_index(name=\"count\")\n",
    ")\n",
    "\n",
    "# 2️⃣ Compute proportion by type_service (clean merge)\n",
    "prop_sum = (\n",
    "    prop_by_service.groupby(\"type_service\")[\"count\"].transform(\"sum\")\n",
    ")\n",
    "prop_by_service[\"proportion\"] = prop_by_service[\"count\"] / prop_sum"
   ]
  },
  {
   "cell_type": "code",
   "execution_count": null,
   "id": "202c21ce",
   "metadata": {},
   "outputs": [],
   "source": [
    "pivot_prop = prop_by_service.pivot(\n",
    "    index=\"type_service\",\n",
    "    columns=\"cluster\",\n",
    "    values=\"proportion\"\n",
    ")\n",
    "\n",
    "pivot_prop.plot(\n",
    "    kind=\"bar\",\n",
    "    stacked=True,\n",
    "    figsize=(10,6),\n",
    "    colormap=\"viridis\"\n",
    ")\n",
    "\n",
    "plt.title(\"Cluster Proportions by Type of Service\")\n",
    "plt.ylabel(\"Proportion\")\n",
    "plt.xlabel(\"Type of Service\")\n",
    "plt.legend(title=\"Cluster\", bbox_to_anchor=(1.05, 1), loc='upper left')\n",
    "plt.tight_layout()\n",
    "plt.show()\n"
   ]
  },
  {
   "cell_type": "code",
   "execution_count": null,
   "id": "e1616a8e",
   "metadata": {},
   "outputs": [],
   "source": [
    "import xgboost as xgb\n",
    "from sklearn.model_selection import train_test_split\n",
    "from sklearn.metrics import mean_squared_error, r2_score\n",
    "import pandas as pd"
   ]
  },
  {
   "cell_type": "code",
   "execution_count": null,
   "id": "834f911c",
   "metadata": {},
   "outputs": [],
   "source": [
    "df_sample = df.sample(frac= 0.3)"
   ]
  },
  {
   "cell_type": "code",
   "execution_count": null,
   "id": "f671ed08",
   "metadata": {},
   "outputs": [],
   "source": [
    "X = df_sample[[\n",
    "    \"trip_miles\", \"duration_min\", \"pickup_hour\",\n",
    "    \"pickup_wday\", \"is_weekend\", \"congestion_surcharge\", 'number_requests', 'PULocationID',  'tolls'\n",
    "]]\n",
    "y = df_sample[\"total_equiv\"]"
   ]
  },
  {
   "cell_type": "code",
   "execution_count": null,
   "id": "0cdd452e",
   "metadata": {},
   "outputs": [],
   "source": [
    "X_train, X_test, y_train, y_test = train_test_split(\n",
    "    X, y, test_size=0.2, random_state=42\n",
    ")"
   ]
  },
  {
   "cell_type": "code",
   "execution_count": null,
   "id": "e5789962",
   "metadata": {},
   "outputs": [],
   "source": [
    "y.isna().sum()"
   ]
  },
  {
   "cell_type": "code",
   "execution_count": null,
   "id": "289fad48",
   "metadata": {},
   "outputs": [],
   "source": [
    "model = xgb.XGBRegressor(\n",
    "    n_estimators= 500,\n",
    "    learning_rate=0.05,\n",
    "    max_depth=6,\n",
    "    subsample=0.8,\n",
    "    colsample_bytree=0.8,\n",
    "    random_state=42\n",
    ")\n",
    "model.fit(X_train, y_train)"
   ]
  }
 ],
 "metadata": {
  "kernelspec": {
   "display_name": "base",
   "language": "python",
   "name": "python3"
  },
  "language_info": {
   "codemirror_mode": {
    "name": "ipython",
    "version": 3
   },
   "file_extension": ".py",
   "mimetype": "text/x-python",
   "name": "python",
   "nbconvert_exporter": "python",
   "pygments_lexer": "ipython3",
   "version": "3.11.5"
  }
 },
 "nbformat": 4,
 "nbformat_minor": 5
}
